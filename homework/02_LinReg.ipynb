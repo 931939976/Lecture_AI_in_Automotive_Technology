{
 "cells": [
  {
   "cell_type": "markdown",
   "metadata": {},
   "source": [
    "## Task: Model evaluation\n",
    "\n",
    "You have been given a linear regression model with polynomial basis functions. The coefficients are given as w0, w1 and w2. The mathematical description of the formular looks as the following:\n",
    "\n",
    "$$ y = w_0 + w_1x + w_2x $$\n",
    "\n",
    "Question 1: You shall now programm a function, which evaluates the model prediction for arbitrary input data points. The input vector x for the data points can hold arbitrary many datapoints and is organized in form of a row vector. The parameter input is organized in form of a vector holding w0, w1 and w2 in this order. The function shall return the predicted output values based on the model. \n",
    "\n",
    "Test cases: There is one test case. It is given below. You can check if your code fulfills the requirements by running the cell. It will output a true in case that the code matches the test case and a false otherwise. \n",
    "\n",
    "Question 2: In the Moodle test there are give values for x, w_0, w_1,w_2 and $\\hat{y}$. Is the give $\\hat{y}$ equal to the model prediction y?"
   ]
  },
  {
   "cell_type": "code",
   "execution_count": null,
   "metadata": {},
   "outputs": [],
   "source": [
    "# define model weights \n",
    "w = [1,0,1];\n",
    "# define sample points\n",
    "x = [0,1,2,3,4,5]; "
   ]
  },
  {
   "cell_type": "code",
   "execution_count": null,
   "metadata": {},
   "outputs": [],
   "source": [
    "# implement the function evalModel\n",
    "# it should evaluate the model given in the task \n",
    "# \n",
    "def evalModel(w, x):\n",
    "    # fill in your code here! \n",
    "    return ypred; "
   ]
  },
  {
   "cell_type": "code",
   "execution_count": null,
   "metadata": {},
   "outputs": [],
   "source": [
    "ypred_true = [1,3,7,13,21,31]; \n",
    "w = [1,1,1]; \n",
    "x = [0, 1, 2, 3, 4, 5]; \n",
    "print(evalModel(w, x)==ypred_true)"
   ]
  },
  {
   "cell_type": "code",
   "execution_count": null,
   "metadata": {},
   "outputs": [],
   "source": [
    "# write your own test to answer the Moodle question\n",
    "\n",
    "#fill in your code here!\n",
    "\n"
   ]
  },
  {
   "cell_type": "code",
   "execution_count": null,
   "metadata": {},
   "outputs": [],
   "source": []
  }
 ],
 "metadata": {
  "kernelspec": {
   "display_name": "Python 3 (ipykernel)",
   "language": "python",
   "name": "python3"
  },
  "language_info": {
   "codemirror_mode": {
    "name": "ipython",
    "version": 3
   },
   "file_extension": ".py",
   "mimetype": "text/x-python",
   "name": "python",
   "nbconvert_exporter": "python",
   "pygments_lexer": "ipython3",
   "version": "3.10.13"
  }
 },
 "nbformat": 4,
 "nbformat_minor": 2
}
