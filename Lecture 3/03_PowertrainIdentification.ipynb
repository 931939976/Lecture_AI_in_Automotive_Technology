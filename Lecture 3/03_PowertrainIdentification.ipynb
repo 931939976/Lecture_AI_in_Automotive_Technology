{
 "cells": [
  {
   "cell_type": "code",
   "execution_count": null,
   "metadata": {},
   "outputs": [],
   "source": [
    "## import all necessary libraries\n",
    "import numpy as np\n",
    "import matplotlib.pyplot as plt\n",
    "from sklearn import preprocessing as sk_preprocessing\n",
    "from sklearn import linear_model as sk_linear_model\n",
    "from sklearn import metrics as sk_metrics"
   ]
  },
  {
   "cell_type": "code",
   "execution_count": null,
   "metadata": {},
   "outputs": [],
   "source": [
    "# read data from csv \n",
    "data = np.genfromtxt('Powertrain.csv', delimiter=',');\n",
    "# map input data to meaningful variables\n",
    "PowertrainForce_N = np.reshape(data[1:,0], (len(data)-1,1));\n",
    "LongAcceleration_mps2 = np.reshape(data[1:,1], (len(data)-1,1));\n",
    "LongVelocity_mps = np.reshape(data[1:,2], (len(data)-1,1));"
   ]
  },
  {
   "cell_type": "markdown",
   "metadata": {},
   "source": [
    "## Visualize Data"
   ]
  },
  {
   "cell_type": "code",
   "execution_count": null,
   "metadata": {},
   "outputs": [],
   "source": [
    "plt.scatter(PowertrainForce_N, LongAcceleration_mps2)\n",
    "plt.grid(True)\n",
    "plt.xlabel('Powertrain Force in N');\n",
    "plt.ylabel('Long Acc in mps2');"
   ]
  },
  {
   "cell_type": "code",
   "execution_count": null,
   "metadata": {},
   "outputs": [],
   "source": [
    "plt.scatter(LongVelocity_mps, LongAcceleration_mps2)\n",
    "plt.grid(True)\n",
    "plt.xlabel('Velocity in mps');\n",
    "plt.ylabel('Long Acc in mps2');"
   ]
  },
  {
   "cell_type": "markdown",
   "metadata": {},
   "source": [
    "## Apply standard regression\n",
    "$$a_x = c_1F_{\\mathrm{PT}} + c_0$$\n",
    "$$a_x = \\frac{1}{m}F_{\\mathrm{PT}}$$"
   ]
  },
  {
   "cell_type": "code",
   "execution_count": null,
   "metadata": {},
   "outputs": [],
   "source": [
    "ols_PolyDegree = 1; \n",
    "ols_poly = sk_preprocessing.PolynomialFeatures(ols_PolyDegree);\n",
    "ols_X_training = ols_poly.fit_transform(PowertrainForce_N);\n",
    "ols_regr = sk_linear_model.LinearRegression(fit_intercept=False);\n",
    "ols_regr.fit(ols_X_training, LongAcceleration_mps2);\n",
    "\n",
    "## visualize results\n",
    "PowertrainTestForce_N = np.reshape(np.linspace(-15000, 15000, 100), (100,1));\n",
    "ols_X_plot = ols_poly.fit_transform(PowertrainTestForce_N);\n",
    "ols_y_plot = ols_regr.predict(ols_X_plot);\n",
    "plt.scatter(PowertrainForce_N, LongAcceleration_mps2)\n",
    "plt.plot(PowertrainTestForce_N, ols_y_plot, color='black', linewidth=5)\n",
    "plt.grid(True)\n",
    "plt.xlabel('Powertrain Force in N');\n",
    "plt.ylabel('Long Acc in mps2');\n",
    "print('Coefficients: \\n', ols_regr.coef_)\n",
    "\n",
    "## calculate vehicle mass\n",
    "print('Vehicle mass: ', 1/ols_regr.coef_[0,1], 'kg')"
   ]
  },
  {
   "cell_type": "markdown",
   "metadata": {},
   "source": [
    "## Evaluate residuals"
   ]
  },
  {
   "cell_type": "code",
   "execution_count": null,
   "metadata": {},
   "outputs": [],
   "source": [
    "plt.scatter(PowertrainForce_N, ols_regr.predict(ols_X_training)-LongAcceleration_mps2)\n",
    "plt.grid(True)\n",
    "plt.xlabel('Velocity in mps');\n",
    "plt.ylabel('Long Acc in mps2');"
   ]
  },
  {
   "cell_type": "code",
   "execution_count": null,
   "metadata": {},
   "outputs": [],
   "source": [
    "plt.scatter(LongVelocity_mps, ols_regr.predict(ols_X_training)-LongAcceleration_mps2)\n",
    "plt.grid(True)\n",
    "plt.xlabel('Powertrain Force in N');\n",
    "plt.ylabel('Long Acc in mps2');"
   ]
  },
  {
   "cell_type": "markdown",
   "metadata": {},
   "source": [
    "## Remove outliers"
   ]
  },
  {
   "cell_type": "code",
   "execution_count": null,
   "metadata": {},
   "outputs": [],
   "source": [
    "# get relevant data point indices\n",
    "idx = np.where((PowertrainForce_N < 5000));\n",
    "PowertrainForce_N_red = PowertrainForce_N[idx];\n",
    "LongAcceleration_mps2_red = LongAcceleration_mps2[idx];\n",
    "LongVelocity_mps_red = LongVelocity_mps[idx];\n",
    "plt.scatter(PowertrainForce_N_red, LongAcceleration_mps2_red)\n",
    "plt.grid(True)\n",
    "plt.xlabel('Powertrain Force in N');\n",
    "plt.ylabel('Long Acc in mps2');"
   ]
  },
  {
   "cell_type": "markdown",
   "metadata": {},
   "source": [
    "## Apply regression\n",
    "\n",
    "$$a_x = c_1F_{\\mathrm{PT}} + c_0$$\n",
    "$$a_x = \\frac{1}{m}F_{\\mathrm{PT}}$$"
   ]
  },
  {
   "cell_type": "code",
   "execution_count": null,
   "metadata": {},
   "outputs": [],
   "source": [
    "ols_PolyDegree = 1; \n",
    "ols_poly = sk_preprocessing.PolynomialFeatures(ols_PolyDegree);\n",
    "ols_X_training_red = ols_poly.fit_transform(np.reshape(PowertrainForce_N_red, (len(PowertrainForce_N_red),1)));\n",
    "ols_regr_out = sk_linear_model.LinearRegression(fit_intercept=False);\n",
    "ols_regr_out.fit(ols_X_training_red, LongAcceleration_mps2_red);\n",
    "\n",
    "## visualize results\n",
    "PowertrainTestForce_N = np.reshape(np.linspace(-15000, 15000, 100), (100,1));\n",
    "ols_X_plot = ols_poly.fit_transform(PowertrainTestForce_N);\n",
    "ols_y_plot = ols_regr_out.predict(ols_X_plot);\n",
    "plt.scatter(PowertrainForce_N, LongAcceleration_mps2)\n",
    "plt.plot(PowertrainTestForce_N, ols_y_plot, color='black', linewidth=5)\n",
    "plt.grid(True)\n",
    "plt.xlabel('Powertrain Force in N');\n",
    "plt.ylabel('Long Acc in mps2');\n",
    "print('Coefficients: \\n', ols_regr_out.coef_)\n",
    "\n",
    "## calculate vehicle mass\n",
    "print('Vehicle mass: ', 1/ols_regr_out.coef_[1], 'kg')"
   ]
  },
  {
   "cell_type": "markdown",
   "metadata": {},
   "source": [
    "## Evaluate residuals"
   ]
  },
  {
   "cell_type": "code",
   "execution_count": null,
   "metadata": {},
   "outputs": [],
   "source": [
    "plt.scatter(PowertrainForce_N_red, ols_regr_out.predict(ols_X_training_red)-LongAcceleration_mps2_red)\n",
    "plt.grid(True)\n",
    "plt.xlabel('Powertrain Force in N');\n",
    "plt.ylabel('Long Acc in mps2');"
   ]
  },
  {
   "cell_type": "code",
   "execution_count": null,
   "metadata": {},
   "outputs": [],
   "source": [
    "plt.scatter(LongVelocity_mps_red, ols_regr_out.predict(ols_X_training_red)-LongAcceleration_mps2_red)\n",
    "plt.grid(True)\n",
    "plt.xlabel('Velocity in mps');\n",
    "plt.ylabel('Long Acc in mps2');"
   ]
  },
  {
   "cell_type": "markdown",
   "metadata": {},
   "source": [
    "## Apply regression with velocity as additional input\n",
    "\n",
    "$$a_x = c_1F_{\\mathrm{PT}} + c_2v^2$$\n",
    "$$a_x = \\frac{1}{m}\\left(F_{\\mathrm{PT}} + c_wv^2\\right)$$"
   ]
  },
  {
   "cell_type": "code",
   "execution_count": null,
   "metadata": {},
   "outputs": [],
   "source": [
    "ols_PolyDegree = 1; \n",
    "ols_poly = sk_preprocessing.PolynomialFeatures(ols_PolyDegree);\n",
    "# form matrix with feature vectors \n",
    "InputMatrix = np.concatenate((np.reshape(PowertrainForce_N_red, (len(PowertrainForce_N_red),1)), np.reshape(LongVelocity_mps_red**2, (len(LongVelocity_mps_red),1))), axis=1);\n",
    "ols_regr_vel = sk_linear_model.LinearRegression(fit_intercept=False);\n",
    "ols_regr_vel.fit(InputMatrix, LongAcceleration_mps2_red);\n",
    "\n",
    "## visualize results\n",
    "PowertrainTestForce_N = np.reshape(np.linspace(-15000, 15000, 100), (100,1));\n",
    "PowertrainTestVelocity_N = np.zeros((100,1));\n",
    "ols_X_plot = np.concatenate((np.reshape(PowertrainTestForce_N, (len(PowertrainTestForce_N),1)), np.reshape(PowertrainTestVelocity_N**2, (len(PowertrainTestVelocity_N),1))), axis=1);\n",
    "ols_y_plot = ols_regr_vel.predict(ols_X_plot);\n",
    "plt.scatter(PowertrainForce_N, LongAcceleration_mps2)\n",
    "plt.plot(PowertrainTestForce_N, ols_y_plot, color='black', linewidth=5)\n",
    "plt.grid(True)\n",
    "print('Coefficients: \\n', ols_regr_vel.coef_)\n",
    "\n",
    "## calculate vehicle mass\n",
    "print('Vehicle mass: ', 1/ols_regr_vel.coef_[0], 'kg')"
   ]
  },
  {
   "cell_type": "markdown",
   "metadata": {},
   "source": [
    "## Evaluate residuals"
   ]
  },
  {
   "cell_type": "code",
   "execution_count": null,
   "metadata": {},
   "outputs": [],
   "source": [
    "plt.scatter(PowertrainForce_N_red, ols_regr_vel.predict(InputMatrix)-LongAcceleration_mps2_red)\n",
    "plt.grid(True)\n",
    "plt.xlabel('Powertrain Force in N');\n",
    "plt.ylabel('Long Acc in mps2');"
   ]
  },
  {
   "cell_type": "code",
   "execution_count": null,
   "metadata": {},
   "outputs": [],
   "source": [
    "plt.scatter(LongVelocity_mps_red, ols_regr_vel.predict(InputMatrix)-LongAcceleration_mps2_red)\n",
    "plt.grid(True)\n",
    "plt.xlabel('Velocity in mps');\n",
    "plt.ylabel('Long Acc in mps2');"
   ]
  }
 ],
 "metadata": {
  "kernelspec": {
   "display_name": "Python 3",
   "language": "python",
   "name": "python3"
  },
  "language_info": {
   "codemirror_mode": {
    "name": "ipython",
    "version": 3
   },
   "file_extension": ".py",
   "mimetype": "text/x-python",
   "name": "python",
   "nbconvert_exporter": "python",
   "pygments_lexer": "ipython3",
   "version": "3.6.5"
  }
 },
 "nbformat": 4,
 "nbformat_minor": 2
}
