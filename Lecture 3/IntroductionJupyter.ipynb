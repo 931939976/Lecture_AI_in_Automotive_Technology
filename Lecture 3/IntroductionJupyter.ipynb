{
 "cells": [
  {
   "cell_type": "code",
   "execution_count": null,
   "metadata": {},
   "outputs": [],
   "source": [
    "# import some libraries \n",
    "import numpy as np\n",
    "import matplotlib.pyplot as plt"
   ]
  },
  {
   "cell_type": "markdown",
   "metadata": {},
   "source": [
    "## Getting started with Jupyter Notebook\n",
    "In this very small tutorial, we are going to develop a **function** which prints `Hello World` and shows a basic plot to impress the user. Furthermore, this documentation is written in *Markdown* and shall be used to showcase some of the most important features. More details, several examples can be found at the [Markdown Cheatsheet](https://github.com/adam-p/markdown-here/wiki/Markdown-Cheatsheet). Even more, you can also use Latex equations in this texts: \n",
    "\n",
    "$$ y = mx + b $$\n",
    "\n",
    "Details on Jupyter Notebook itself can be found at the [docs](http://jupyter.org/documentation). "
   ]
  },
  {
   "cell_type": "code",
   "execution_count": null,
   "metadata": {},
   "outputs": [],
   "source": [
    "# define a function to print something basic \n",
    "def printHelloWorld():\n",
    "    print('Hello Students')"
   ]
  },
  {
   "cell_type": "code",
   "execution_count": null,
   "metadata": {},
   "outputs": [],
   "source": [
    "# call the function \n",
    "printHelloWorld();"
   ]
  },
  {
   "cell_type": "code",
   "execution_count": null,
   "metadata": {},
   "outputs": [],
   "source": [
    "# evaluate a basic function and plot the result\n",
    "x = np.linspace(0, 10, 100)\n",
    "y = 5*x + 3\n",
    "plt.plot(x, y)\n",
    "plt.grid(True)"
   ]
  }
 ],
 "metadata": {
  "kernelspec": {
   "display_name": "Python 3",
   "language": "python",
   "name": "python3"
  },
  "language_info": {
   "codemirror_mode": {
    "name": "ipython",
    "version": 3
   },
   "file_extension": ".py",
   "mimetype": "text/x-python",
   "name": "python",
   "nbconvert_exporter": "python",
   "pygments_lexer": "ipython3",
   "version": "3.6.5"
  }
 },
 "nbformat": 4,
 "nbformat_minor": 2
}
