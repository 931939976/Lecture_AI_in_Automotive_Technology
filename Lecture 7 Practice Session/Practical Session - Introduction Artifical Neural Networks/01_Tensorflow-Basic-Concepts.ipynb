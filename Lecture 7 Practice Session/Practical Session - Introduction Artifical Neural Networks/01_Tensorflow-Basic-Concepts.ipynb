{
 "cells": [
  {
   "cell_type": "markdown",
   "metadata": {},
   "source": [
    "# Tensorflow Basic Concepts | Practical Session Part I"
   ]
  },
  {
   "cell_type": "markdown",
   "metadata": {},
   "source": [
    "## 1 Introduction"
   ]
  },
  {
   "cell_type": "markdown",
   "metadata": {},
   "source": [
    "In this week's practical session, we will have a look at the tensorflow python package, which helps us to generate neural networks in python. Simultaneously, the lecture contents are revisited and translated into small programming exercises with tensorflow.\n",
    "\n",
    "\n",
    "The practical session is divided into three different jupyter notebooks. This notebook features the first part of the practical session and deals with the basic concepts of tensorflow. In the other notebooks, an artificial neuron is modelled and used for linear regression and binary classification tasks. "
   ]
  },
  {
   "cell_type": "markdown",
   "metadata": {},
   "source": [
    "### 1.1 Imports"
   ]
  },
  {
   "cell_type": "markdown",
   "metadata": {},
   "source": [
    "For our first look into tensorflow, we will need the tensorflow and the numpy package:"
   ]
  },
  {
   "cell_type": "code",
   "execution_count": 2,
   "metadata": {},
   "outputs": [],
   "source": [
    "import tensorflow as tf\n",
    "import numpy as np"
   ]
  },
  {
   "cell_type": "markdown",
   "metadata": {},
   "source": [
    "## 2 Tensorflow Basics"
   ]
  },
  {
   "cell_type": "markdown",
   "metadata": {},
   "source": [
    "This chapter introduces the tensorflow package for python. The chapter is divided into several sections: After a short introduction dealing with the general concept of tensorflow, the most important tensorflow classes needed to generate neural networks are presented in their respective sections. In order to illustrate the usage of the described classes,  programming examples are shown. "
   ]
  },
  {
   "cell_type": "markdown",
   "metadata": {},
   "source": [
    "### 2.1 Introduction"
   ]
  },
  {
   "cell_type": "markdown",
   "metadata": {},
   "source": [
    "The tensorflow framework employs a data stream oriented approach. Hence, tensorflow relies on so called computational graphs that define the sequential order of mathematical operations that tensorflow evaluates. The operations defined in the computational graph are represented by nodes. These nodes are connected via directed edges that define the information flow through the network. Through this approach, a mathematical pipeline is defined. \n",
    "\n",
    "\n",
    "The data flowing through the edges of the computational graph is provided in the form of tensors, hence the name tensorflow. A tensor is a n-dimensional data element. The dimension of a tensor is often called a \"rank\" - e.g. a scalar is a rank 0 tensor, a vector is a rank 1 tensor and a matrix is a rank 2 tensor. \n",
    "\n",
    "Before actual calculations are performed by tensorflow, the computational graph has to be defined statically (i.e. the architecture of the graph is defined). Before a concrete example is provided in section 2.6, the following subsections shed light on the different types of nodes in a tensorflow computational graph."
   ]
  },
  {
   "cell_type": "markdown",
   "metadata": {},
   "source": [
    "### 2.2 Constants"
   ]
  },
  {
   "cell_type": "markdown",
   "metadata": {},
   "source": [
    "The first computational node class in tensorflow is the constant. A tensorflow constant serves to represent a fixed value, that is not able to change its state during computation of the graph. A tensorflow constant is defined as follows:"
   ]
  },
  {
   "cell_type": "code",
   "execution_count": 3,
   "metadata": {},
   "outputs": [],
   "source": [
    "# Let's define our first tensorflow constant with value 0.5\n",
    "my_const = tf.constant(0.5, name=\"my_const\")"
   ]
  },
  {
   "cell_type": "markdown",
   "metadata": {},
   "source": [
    "When defining a constant in tensorflow, the constant's value has to be passed. Alongside the value of a constant, its shape and data type can be explicitely given. However, both are infered automatically by tensorflow in accordance with the provided value. In addition to value, shape and data type, an optional name may be provided (this name does not have to match the variable name a tf.constant is assigned to in python).\n",
    "\n",
    "\n",
    "! Because tensorflow uses a C++ backbone, tensorflow is not flexible with data types (e.g. if you initialize a constant with 0, then a int type is infered, whereas a initialization with 0.0 infers a tf.float32 type) ! \n",
    "\n",
    "\n",
    "The tensorflow documentation for a constant can be found here: https://www.tensorflow.org/api_docs/python/tf/constant\n",
    "\n",
    "Different data types supported by tensorflow can be found here: https://www.tensorflow.org/api_docs/python/tf/dtypes/DType"
   ]
  },
  {
   "cell_type": "markdown",
   "metadata": {},
   "source": [
    "### 2.3 Variables"
   ]
  },
  {
   "cell_type": "markdown",
   "metadata": {},
   "source": [
    "In contrast to constants, tensorflow variables may change their value during computations. They may be used to store the output of a tensorflow computational graph or to log intermediate results inside the computational graph. A tensorflow variable is defined as follows:"
   ]
  },
  {
   "cell_type": "code",
   "execution_count": 4,
   "metadata": {},
   "outputs": [],
   "source": [
    "# Define a tensorflow variable with an initial value of 2.0 and the name my_const\n",
    "my_var = tf.Variable(2.0, name=\"my_var\")"
   ]
  },
  {
   "cell_type": "markdown",
   "metadata": {},
   "source": [
    "There are many arguments that can be passed to a tensorflow variable. The most common ones are the initial value and the name. Please note that tensorflow is picky with data types again!\n",
    "\n",
    "The tensorflow documentation for a variable can be found here: https://www.tensorflow.org/api_docs/python/tf/Variable"
   ]
  },
  {
   "cell_type": "markdown",
   "metadata": {},
   "source": [
    "### 2.4 Operations"
   ]
  },
  {
   "cell_type": "markdown",
   "metadata": {},
   "source": [
    "Tensorflow operations define mathematical operations in the tensorflow graph. There are many different tensorflow operations. One example shall be given in the following: "
   ]
  },
  {
   "cell_type": "code",
   "execution_count": 5,
   "metadata": {},
   "outputs": [],
   "source": [
    "# Define a tensorflow operation that adds the previously defined constant and the variable from above\n",
    "my_add = tf.add(my_const, my_var)"
   ]
  },
  {
   "cell_type": "markdown",
   "metadata": {},
   "source": [
    "Please note that operations are not carried out immediately. Instead, they are defined as static parts of the tensorflow graph first and will only be evaluated later on, when running a tensorflow session. This fact can be observed when printing the my_add operation:"
   ]
  },
  {
   "cell_type": "code",
   "execution_count": 6,
   "metadata": {},
   "outputs": [
    {
     "name": "stdout",
     "output_type": "stream",
     "text": [
      "Tensor(\"Add:0\", shape=(), dtype=float32)\n"
     ]
    }
   ],
   "source": [
    "print(my_add)"
   ]
  },
  {
   "cell_type": "markdown",
   "metadata": {},
   "source": [
    "The tensorflow documentation for operations can be found here: https://www.tensorflow.org/api_docs/python/tf/Operation"
   ]
  },
  {
   "cell_type": "markdown",
   "metadata": {},
   "source": [
    "### 2.5 Initialization"
   ]
  },
  {
   "cell_type": "markdown",
   "metadata": {},
   "source": [
    "A special operation is the initialization operation. It is used to initialize the global variables of a tensorflow graph. Before any calculations can take place, the initialization operation has to be defined and executed. \n",
    "A simple way to define a initialization operation is given by:"
   ]
  },
  {
   "cell_type": "code",
   "execution_count": 7,
   "metadata": {},
   "outputs": [],
   "source": [
    "ini = tf.global_variables_initializer()"
   ]
  },
  {
   "cell_type": "markdown",
   "metadata": {},
   "source": [
    "### 2.6 Sessions"
   ]
  },
  {
   "cell_type": "markdown",
   "metadata": {},
   "source": [
    "A tensorflow session is used to execute a previously defined tensorflow graph. To create a session, a tensorflow session object has to be created. Each session object provides a method \"run\" used to execute computations from the graph. \n",
    "Before further computations can be carried out, the initialization operation has to be run by the session object as well. A common construction to automatically close the tensorflow session after all computations have been carried out can be seen in the code block below:"
   ]
  },
  {
   "cell_type": "code",
   "execution_count": 8,
   "metadata": {},
   "outputs": [
    {
     "name": "stdout",
     "output_type": "stream",
     "text": [
      "My sum is:  2.5\n"
     ]
    }
   ],
   "source": [
    "with tf.Session() as sess: \n",
    "    sess.run(ini)\n",
    "    my_sum = sess.run(my_add)\n",
    "    print(\"My sum is: \", my_sum)"
   ]
  },
  {
   "cell_type": "markdown",
   "metadata": {},
   "source": [
    "Please note that tensorflow executed calculations on our computational graph upon the sess.run call. Also note that tensorflow automatically executed all operations necessary to compute the my_add operation by scanning the upstream of our computational graph for relevant operations without being explicitely told."
   ]
  },
  {
   "cell_type": "markdown",
   "metadata": {},
   "source": [
    "### 2.7 Placeholders"
   ]
  },
  {
   "cell_type": "markdown",
   "metadata": {},
   "source": [
    "In the context of machine learning it is common to feed data into a computational graph and observe the different outputs. Hence, we do not model inputs by single variables or constants but by so called placeholders. \n",
    "\n",
    "Placeholders define variables that can be fed to the computational graph while running a session. A placeholder is defined as follows: "
   ]
  },
  {
   "cell_type": "code",
   "execution_count": 9,
   "metadata": {},
   "outputs": [],
   "source": [
    "my_placeholder = tf.placeholder(tf.float32, shape=[None, 1], name=\"input\")"
   ]
  },
  {
   "cell_type": "markdown",
   "metadata": {},
   "source": [
    "In contrast to constants and variables, no fixed or initial values are supplied during the initialization of a placeholder. Instead a data type and a shape are defined. The tensorflow placeholder consequentially expects data of the specified data type and shape only. \n",
    "\n",
    "In the example above, a placeholder was initialized to be of float32 type (floating point number with 32 bit). Additionally the shape of the placeholder was set to [None,1], meaning that an arbitrary number of one dimensional floating points is expected to be fed through this placeholder into the graph. Hence, the above placeholder is an input interface for scalars. \n",
    "\n",
    "If vectors where to be supplied the shape would be [None, 2], for matrices [None, 3] and so on. The number of instances fed through the placeholder amounts to the first component of the shape. If it is \"None\" like in the example, the number is arbitrary.\n",
    "\n",
    "Please find the placeholder documentation here: https://www.tensorflow.org/api_docs/python/tf/placeholder"
   ]
  },
  {
   "cell_type": "markdown",
   "metadata": {},
   "source": [
    "### 2.8 Example 2"
   ]
  },
  {
   "cell_type": "markdown",
   "metadata": {},
   "source": [
    "In this section a small example combining all learnings up to this point is presented.\n",
    "\n",
    "Suppose you want to calculate the following equation using tensorflow: \n",
    "\n",
    "y = (a+b)*x\n",
    "\n",
    "here a and b are constants, x is an input variable that shall be fed to the equation with different values and y is the output variable\n",
    "\n",
    "A suitable tensorflow code to solve this problem and calculate y looks like this:"
   ]
  },
  {
   "cell_type": "code",
   "execution_count": 10,
   "metadata": {},
   "outputs": [
    {
     "name": "stdout",
     "output_type": "stream",
     "text": [
      "y = \n",
      " [[-15.]\n",
      " [ -9.]\n",
      " [ -3.]\n",
      " [  3.]\n",
      " [  9.]\n",
      " [ 15.]]\n"
     ]
    }
   ],
   "source": [
    "# Define constants\n",
    "a = tf.constant(1.0, name=\"a\")\n",
    "b = tf.constant(2.0, name=\"b\")\n",
    "\n",
    "# Define input\n",
    "x = tf.placeholder(tf.float32, name=\"x\")\n",
    "\n",
    "# Define operations\n",
    "sum_ab = tf.add(a,b)\n",
    "y = tf.multiply(sum_ab, x)\n",
    "\n",
    "# Create initialization operation\n",
    "ini = tf.global_variables_initializer()\n",
    "\n",
    "# Create input data\n",
    "x_in = np.linspace(-5,5,6) # 6 equally spaced numbers from -5 to 5 (i.e. [-5, -3, -1, 1, 3, 5])\n",
    "x_in = x_in[:, np.newaxis]\n",
    "\n",
    "# Run session\n",
    "with tf.Session() as sess:\n",
    "    \n",
    "    # Execute graph\n",
    "    sess.run(ini)\n",
    "    out = sess.run(y, feed_dict={x: x_in})\n",
    "    \n",
    "    # Print result\n",
    "    print(\"y = \\n\", out)\n"
   ]
  },
  {
   "cell_type": "markdown",
   "metadata": {},
   "source": [
    "Note that the sess.run command was supplied with a feed_dict argument, passing data to the previously defined placeholder \"x\". A feed dictionary always determines which data is passed through the placeholders of a tensorflow graph. It is important to define all data inputs in the feed dictionary that are needed to compute the operations executed by the sess.run command."
   ]
  },
  {
   "cell_type": "markdown",
   "metadata": {},
   "source": [
    "## 3 Loss Function"
   ]
  },
  {
   "cell_type": "markdown",
   "metadata": {},
   "source": [
    "In the last part of this jupyter notebook a loss function is manually defined in tensorflow. The same loss function will be used in all other jupyter notebooks of this practical session. \n",
    "Oftentimes, loss functions are not manually defined when working with tensorflow. Instead, tensorflow implementations for loss functions are used. \n",
    "\n",
    "You can find a list of pre-defined tensorflow loss functions here: https://www.tensorflow.org/api_docs/python/tf/losses\n",
    "\n",
    "The loss function that is to be defined manually in this practical session is: "
   ]
  },
  {
   "attachments": {
    "LossFunctionTex.png": {
     "image/png": "[encoded data removed]"
    }
   },
   "cell_type": "markdown",
   "metadata": {},
   "source": [
    "![LossFunctionTex.png](attachment:LossFunctionTex.png)"
   ]
  },
  {
   "cell_type": "markdown",
   "metadata": {},
   "source": [
    "### 3.1 Computational Graph"
   ]
  },
  {
   "cell_type": "markdown",
   "metadata": {},
   "source": [
    "Since tensorflow is graph based, it is reasonable to sketch a computational graph of the equation that shall be implemented before writing any code. \n",
    "The computational graph corresponding to the loss function that is to be translated to tensorflow code in the next section may look like this: "
   ]
  },
  {
   "attachments": {
    "ComputationalGraphLossFunction.png": {
     "image/png": "[encoded data removed]"
    }
   },
   "cell_type": "markdown",
   "metadata": {},
   "source": [
    "![ComputationalGraphLossFunction.png](attachment:ComputationalGraphLossFunction.png)"
   ]
  },
  {
   "cell_type": "markdown",
   "metadata": {},
   "source": [
    "### 3.2 Tensorflow Translation"
   ]
  },
  {
   "cell_type": "markdown",
   "metadata": {},
   "source": [
    "The computational graph from the last section is now translated into tensorflow code. From the computational graph, it is evident, that two placeholders (inputs), 4 operations and one constant have to be defined in the tensorflow code. The definition of the tensorflow elements can be carried out in one single line of code with many nested functions or in multiple lines of code. For this example, the latter approach is employed:"
   ]
  },
  {
   "cell_type": "code",
   "execution_count": 11,
   "metadata": {},
   "outputs": [],
   "source": [
    "# Definition of the placeholders\n",
    "y_hat = tf.placeholder(tf.float32, name = \"y_hat\")\n",
    "y = tf.placeholder(tf.float32, name = \"y\")\n",
    "\n",
    "# Definition of the constant\n",
    "c = tf.constant(0.5, name = \"c\")\n",
    "\n",
    "# Definition of the operations\n",
    "o1 = tf.negative(y_hat)\n",
    "o2 = tf.add(o1, y)\n",
    "o3 = tf.math.pow(o2, 2)\n",
    "o4 = tf.multiply(o3, c)\n",
    "L = o4"
   ]
  },
  {
   "cell_type": "markdown",
   "metadata": {},
   "source": [
    "Lastly, the Loss function shall be tested: "
   ]
  },
  {
   "cell_type": "code",
   "execution_count": 12,
   "metadata": {},
   "outputs": [
    {
     "name": "stdout",
     "output_type": "stream",
     "text": [
      "Computed losses for: \n",
      "y = \n",
      " [[-1. ]\n",
      " [-0.6]\n",
      " [-0.2]\n",
      " [ 0.2]\n",
      " [ 0.6]\n",
      " [ 1. ]]\n",
      "\n",
      "y_hat = \n",
      " [[-5.]\n",
      " [-3.]\n",
      " [-1.]\n",
      " [ 1.]\n",
      " [ 3.]\n",
      " [ 5.]]\n",
      "\n",
      " Resulting losses are: \n",
      "L = \n",
      " [[8.        ]\n",
      " [2.88      ]\n",
      " [0.32000002]\n",
      " [0.32000002]\n",
      " [2.88      ]\n",
      " [8.        ]]\n"
     ]
    }
   ],
   "source": [
    "# Define variable initializer\n",
    "ini = tf.global_variables_initializer()\n",
    "\n",
    "# Define input data\n",
    "y_hat_data  = np.linspace(-5,5,6)\n",
    "y_data = np.linspace(-1,1,6)\n",
    "\n",
    "# Prepare input data for tensorflow placeholder feeding\n",
    "y_hat_data = y_hat_data[:, np.newaxis]\n",
    "y_data = y_data[:, np.newaxis]\n",
    "\n",
    "# Run tensorflow session\n",
    "with tf.Session() as sess:\n",
    "    sess.run(ini)\n",
    "    loss = sess.run(L, feed_dict = {y: y_data, y_hat: y_hat_data})\n",
    "\n",
    "# Check the output\n",
    "\n",
    "print(\"Computed losses for: \")\n",
    "print(\"y = \\n\", y_data)\n",
    "print(\"\\ny_hat = \\n\", y_hat_data)\n",
    "print(\"\\n Resulting losses are: \")\n",
    "print(\"L = \\n\", loss)"
   ]
  },
  {
   "cell_type": "markdown",
   "metadata": {},
   "source": [
    "## 4 Evaluation"
   ]
  },
  {
   "attachments": {
    "QRCode_AIAT-7.png": {
     "image/png": "[encoded data removed]"
    }
   },
   "cell_type": "markdown",
   "metadata": {},
   "source": [
    "Please evaluate the \"Introduction to Neural Networks\" practical sessions and lecture using either the link: \n",
    "\n",
    "https://evasys.zv.tum.de/evasys/online.php?p=AIAT-7\n",
    "\n",
    "or the QR code:\n",
    "\n",
    "![QRCode_AIAT-7.png](attachment:QRCode_AIAT-7.png)"
   ]
  },
  {
   "cell_type": "code",
   "execution_count": null,
   "metadata": {},
   "outputs": [],
   "source": []
  }
 ],
 "metadata": {
  "kernelspec": {
   "display_name": "Python 3",
   "language": "python",
   "name": "python3"
  },
  "language_info": {
   "codemirror_mode": {
    "name": "ipython",
    "version": 3
   },
   "file_extension": ".py",
   "mimetype": "text/x-python",
   "name": "python",
   "nbconvert_exporter": "python",
   "pygments_lexer": "ipython3",
   "version": "3.6.4"
  }
 },
 "nbformat": 4,
 "nbformat_minor": 2
}
